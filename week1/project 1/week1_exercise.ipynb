{
 "cells": [
  {
   "cell_type": "code",
   "execution_count": null,
   "id": "73701e60",
   "metadata": {},
   "outputs": [],
   "source": [
    "import os\n",
    "import json\n",
    "from dotenv import load_dotenv\n",
    "from openai import OpenAI\n",
    "import ollama"
   ]
  },
  {
   "cell_type": "code",
   "execution_count": 6,
   "id": "5b47274e",
   "metadata": {},
   "outputs": [],
   "source": [
    "MODEL_GPT = 'gpt-4o-mini'\n",
    "MODEL_LLAMA = 'llama3.2:1b'"
   ]
  },
  {
   "cell_type": "code",
   "execution_count": 4,
   "id": "a2771741",
   "metadata": {},
   "outputs": [],
   "source": [
    "question = \"\"\"\n",
    "Please explain what this code does and why:\n",
    "yield from {book.get(\"author\") for book in books if book.get(\"author\")}\n",
    "\"\"\""
   ]
  },
  {
   "cell_type": "code",
   "execution_count": 5,
   "id": "8ef87fd9",
   "metadata": {},
   "outputs": [],
   "source": [
    "load_dotenv(override=True)\n",
    "api_key = os.getenv('OPENAI_API_KEY')"
   ]
  },
  {
   "cell_type": "code",
   "execution_count": 8,
   "id": "ce496071",
   "metadata": {},
   "outputs": [
    {
     "data": {
      "text/plain": [
       "'Certainly! Let\\'s break down the code snippet you provided:\\n\\n```python\\nyield from {book.get(\"author\") for book in books if book.get(\"author\")}\\n```\\n\\n### What the Code Does\\n\\n1. **Set Comprehension**: \\n   - The expression `{book.get(\"author\") for book in books if book.get(\"author\")}` is a set comprehension. It creates a set (a collection of unique elements) of authors.\\n   - `book.get(\"author\")` tries to retrieve the value associated with the key `\"author\"` from each `book` dictionary in the `books` iterable (which we\\'re assuming is a list of dictionaries, where each dictionary represents a book with possibly various attributes).\\n\\n2. **Filtering**:\\n   - The `if book.get(\"author\")` part filters out any books that do not have an author. If `book.get(\"author\")` returns a truthy value (a non-empty string), that author\\'s name is included in the set. If it returns `None` or an empty string, it is skipped.\\n\\n3. **Yielding Values**:\\n   - `yield from` is a syntactic feature used in generator functions. It allows you to yield all values from a given iterable (like a set, list, etc.) one at a time. In this case, it means that the code will yield each unique author found in the `books` iterable.\\n\\n### Why This Code is Useful\\n\\n- **Uniqueness**: The use of a set comprehension ensures that each author is yielded only once, regardless of how many books they have authored in the list.\\n- **Efficiency**: By using `yield from`, this code can be part of a larger generator function. It allows the caller of the generator to iterate over authors without storing all authors in memory at once, which can be beneficial for large datasets.\\n\\n### Example\\n\\nIf `books` looks like this:\\n\\n```python\\nbooks = [\\n    {\"title\": \"Book 1\", \"author\": \"Author A\"},\\n    {\"title\": \"Book 2\", \"author\": \"Author B\"},\\n    {\"title\": \"Book 3\", \"author\": None},\\n    {\"title\": \"Book 4\", \"author\": \"Author A\"},\\n]\\n```\\n\\nWhen you run the provided line of code as part of a generator function, it will yield:\\n\\n- \"Author A\"\\n- \"Author B\"\\n\\n\"Author A\" will only be yielded once, even though it appears for two books, while the book with a `None` author is ignored. \\n\\nOverall, the code is a compact way to extract and yield unique authors from a collection of book dictionaries efficiently.'"
      ]
     },
     "execution_count": 8,
     "metadata": {},
     "output_type": "execute_result"
    }
   ],
   "source": [
    "from openai import OpenAI\n",
    "openai = OpenAI()\n",
    "\n",
    "response = openai.chat.completions.create(model=MODEL_GPT, messages=[\n",
    "                {\"role\": \"system\", \"content\": \"You are a helpful programming tutor. Explain code clearly.\"},\n",
    "                {\"role\": \"user\", \"content\": question}])\n",
    "\n",
    "response.choices[0].message.content"
   ]
  }
 ],
 "metadata": {
  "kernelspec": {
   "display_name": "Python 3",
   "language": "python",
   "name": "python3"
  },
  "language_info": {
   "codemirror_mode": {
    "name": "ipython",
    "version": 3
   },
   "file_extension": ".py",
   "mimetype": "text/x-python",
   "name": "python",
   "nbconvert_exporter": "python",
   "pygments_lexer": "ipython3",
   "version": "3.10.12"
  }
 },
 "nbformat": 4,
 "nbformat_minor": 5
}
