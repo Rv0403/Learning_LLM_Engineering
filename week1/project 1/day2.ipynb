{
 "cells": [
  {
   "cell_type": "code",
   "execution_count": 2,
   "id": "cdd664a6",
   "metadata": {},
   "outputs": [],
   "source": [
    "import requests\n",
    "from bs4 import BeautifulSoup\n",
    "from IPython.display import Markdown, display"
   ]
  },
  {
   "cell_type": "code",
   "execution_count": 3,
   "id": "7ec93cf3",
   "metadata": {},
   "outputs": [],
   "source": [
    "OLLAMA_API = \"http://localhost:11434/api/chat\"\n",
    "HEADERS = {\"Content-Type\": \"application/json\"}\n",
    "MODEL = \"llama3.2:1b\""
   ]
  },
  {
   "cell_type": "code",
   "execution_count": 4,
   "id": "5b6bf801",
   "metadata": {},
   "outputs": [],
   "source": [
    "messages = [\n",
    "    {\"role\": \"user\", \"content\": \"Describe some of the business applications of Generative AI\"}\n",
    "]"
   ]
  },
  {
   "cell_type": "code",
   "execution_count": 5,
   "id": "268c7f5a",
   "metadata": {},
   "outputs": [],
   "source": [
    "payload = {\n",
    "        \"model\": MODEL,\n",
    "        \"messages\": messages,\n",
    "        \"stream\": False\n",
    "    }"
   ]
  },
  {
   "cell_type": "code",
   "execution_count": 6,
   "id": "39f940e8",
   "metadata": {},
   "outputs": [
    {
     "name": "stdout",
     "output_type": "stream",
     "text": [
      "Generative AI has a wide range of business applications across various industries. Here are some examples:\n",
      "\n",
      "1. **Marketing and Advertising**: Generative AI can create personalized content, such as product descriptions, social media posts, and email campaigns, based on user data and preferences. This helps businesses target their audience more effectively and increase engagement.\n",
      "\n",
      "2. **Customer Service**: AI-powered chatbots can be trained to understand customer queries and respond with relevant answers, reducing the need for human customer support staff. This improves customer experience and reduces operational costs.\n",
      "\n",
      "3. **Content Creation**: Generative AI can generate high-quality content, such as articles, videos, and images, at scale and speed. This is particularly useful for businesses that produce a lot of content but have limited resources or expertise in creating it themselves.\n",
      "\n",
      "4. **Supply Chain Management**: AI can help optimize supply chain operations by analyzing data from sensors, drones, and other sources to predict demand, identify bottlenecks, and suggest alternative routes or inventory management strategies.\n",
      "\n",
      "5. **Product Design**: Generative AI can create 3D models and prototypes of products based on user feedback and design requirements. This enables businesses to iterate quickly and make changes before investing in prototyping costs.\n",
      "\n",
      "6. **Predictive Maintenance**: AI-powered predictive maintenance can analyze sensor data from machines and predict when they are likely to fail, allowing for proactive maintenance and reducing downtime.\n",
      "\n",
      "7. **Digital Twins**: Generative AI can create digital replicas of physical assets, such as buildings or vehicles, which can be used for simulation, optimization, and prediction. This enables businesses to optimize operations, reduce energy consumption, and improve safety.\n",
      "\n",
      "8. **Identity Verification**: AI-powered identity verification systems use generative AI to analyze facial recognition data and authenticate users across multiple devices and platforms.\n",
      "\n",
      "9. **Risk Management**: Generative AI can analyze vast amounts of data from various sources (e.g., sensors, sensors, IoT devices) to identify potential risks and predict their likelihood and impact. This enables businesses to take proactive measures to mitigate risks.\n",
      "\n",
      "10. **Data Analysis**: AI-powered generative models can process and analyze large datasets at scale, making it easier for businesses to uncover insights, trends, and correlations that may have gone unnoticed by humans.\n",
      "\n",
      "11. **Virtual Assistants**: Generative AI can be integrated into virtual assistants like Alexa or Google Assistant to provide personalized recommendations, answer questions, and perform tasks on behalf of users.\n",
      "\n",
      "12. **Robotic Process Automation (RPA)**: AI-powered generative models can automate repetitive tasks in RPA workflows, reducing the need for human intervention and increasing efficiency.\n",
      "\n",
      "13. **Sentiment Analysis**: Generative AI can analyze text data from various sources to identify sentiment trends and emotions, enabling businesses to better understand customer opinions and preferences.\n",
      "\n",
      "14. **Personalization**: AI-powered generative models can create personalized recommendations for products, services, or content based on user behavior, preferences, and context.\n",
      "\n",
      "15. **Anomaly Detection**: Generative AI can analyze data from various sources (e.g., transactions, sensor readings) to identify anomalies that may indicate potential security threats or other issues.\n"
     ]
    }
   ],
   "source": [
    "response = requests.post(OLLAMA_API, json=payload, headers=HEADERS)\n",
    "print(response.json()['message']['content'])"
   ]
  },
  {
   "cell_type": "code",
   "execution_count": null,
   "id": "4eb5baa2",
   "metadata": {},
   "outputs": [
    {
     "ename": "ModuleNotFoundError",
     "evalue": "No module named 'ollama'",
     "output_type": "error",
     "traceback": [
      "\u001b[0;31m---------------------------------------------------------------------------\u001b[0m",
      "\u001b[0;31mModuleNotFoundError\u001b[0m                       Traceback (most recent call last)",
      "Cell \u001b[0;32mIn[7], line 1\u001b[0m\n\u001b[0;32m----> 1\u001b[0m \u001b[38;5;28;01mimport\u001b[39;00m\u001b[38;5;250m \u001b[39m\u001b[38;5;21;01mollama\u001b[39;00m\n\u001b[1;32m      3\u001b[0m response \u001b[38;5;241m=\u001b[39m ollama\u001b[38;5;241m.\u001b[39mchat(model\u001b[38;5;241m=\u001b[39mMODEL, messages\u001b[38;5;241m=\u001b[39mmessages)\n\u001b[1;32m      4\u001b[0m \u001b[38;5;28mprint\u001b[39m(response[\u001b[38;5;124m'\u001b[39m\u001b[38;5;124mmessage\u001b[39m\u001b[38;5;124m'\u001b[39m][\u001b[38;5;124m'\u001b[39m\u001b[38;5;124mcontent\u001b[39m\u001b[38;5;124m'\u001b[39m])\n",
      "\u001b[0;31mModuleNotFoundError\u001b[0m: No module named 'ollama'"
     ]
    }
   ],
   "source": [
    "#response = ollama.chat(model=MODEL, messages=messages)\n",
    "print(response['message']['content'])"
   ]
  },
  {
   "cell_type": "code",
   "execution_count": 9,
   "id": "dfc5b662",
   "metadata": {},
   "outputs": [],
   "source": [
    "from bs4 import BeautifulSoup\n",
    "\n",
    "headers = {\n",
    " \"User-Agent\": \"Mozilla/5.0 (Windows NT 10.0; Win64; x64) AppleWebKit/537.36 (KHTML, like Gecko) Chrome/117.0.0.0 Safari/537.36\"\n",
    "}\n",
    "\n",
    "class Website:\n",
    "\n",
    "    def __init__(self, url):\n",
    "        \"\"\"\n",
    "        Create this Website object from the given url using the BeautifulSoup library\n",
    "        \"\"\"\n",
    "        self.url = url\n",
    "        response = requests.get(url, headers=headers)\n",
    "        soup = BeautifulSoup(response.content, 'html.parser')\n",
    "        self.title = soup.title.string if soup.title else \"No title found\"\n",
    "        for irrelevant in soup.body([\"script\", \"style\", \"img\", \"input\"]):\n",
    "            irrelevant.decompose()\n",
    "        self.text = soup.body.get_text(separator=\"\\n\", strip=True)\n",
    "\n",
    "system_prompt = \"\"\"You are an assistant that analyzes the contents of a website\n",
    "and provides a short summary, ignoring text that might be navigation related.\n",
    "Respond in markdown.\"\"\"\n",
    "\n",
    "def user_prompt_for(website):\n",
    "    user_prompt = f\"You are looking at a website titled {website.title}\"\n",
    "    user_prompt += \"\"\"\\nThe contents of this website is as follows;\n",
    "please provide a short summary of this website in markdown.\n",
    "If it includes news or announcements, then summarize these too.\\n\\n\"\"\"\n",
    "    user_prompt += website.text\n",
    "    return user_prompt\n",
    "\n",
    "def messages_for(website):\n",
    "    return [\n",
    "        {\"role\": \"system\", \"content\": system_prompt},\n",
    "        {\"role\": \"user\", \"content\": user_prompt_for(website)}\n",
    "    ]"
   ]
  },
  {
   "cell_type": "code",
   "execution_count": 10,
   "id": "c0da3f34",
   "metadata": {},
   "outputs": [],
   "source": [
    "def summarize(url):\n",
    "    website = Website(url)\n",
    "    payload = {\n",
    "        \"model\": MODEL,\n",
    "        \"messages\": messages_for(website),\n",
    "        \"stream\": False\n",
    "    }\n",
    "    response = requests.post(OLLAMA_API, json=payload, headers={\"Content-Type\": \"application/json\"})\n",
    "    print(response.json()['message']['content'])"
   ]
  },
  {
   "cell_type": "code",
   "execution_count": 11,
   "id": "0729a030",
   "metadata": {},
   "outputs": [
    {
     "name": "stdout",
     "output_type": "stream",
     "text": [
      "### Home\n",
      "The website is about the creator, Ed Donner, who is also the co-founder and CTO of Nebula.io. It appears to be a personal blog or profile page where Ed shares his interests in AI, LLMs (Large Language Models), and entrepreneurship.\n",
      "\n",
      "### Posts\n",
      "- **Hi there!** - A casual greeting from Ed, discussing his passion for writing code, experimenting with LLMs, DJing, and electronic music production.\n",
      "- **About me...** - Ed introduces himself as a co-founder of Nebula.io, working on AI applications that can make a positive impact on society.\n",
      "- **Well, hi there.** - A similar greeting from the same person, referencing his involvement in various projects and ventures.\n",
      "\n",
      "### Connect\n",
      "There is no navigation-related content here.\n",
      "\n",
      "### News/Announcements\n",
      "- **September 15, 2025: AI in Production** - An announcement about Nebula.io's new AI product going into production on AWS at scale.\n",
      "- **May 28, 2025: Connecting my courses** - Ed promotes his online courses on becoming an LLM expert and leader.\n",
      "- **May 18, 2025: 2025 AI Executive Briefing** - A call to action for individuals interested in the field of AI leadership.\n",
      "- **April 21, 2025: The Complete Agentic AI Engineering Course** - An invitation to Ed's courses on agentic AI engineering.\n"
     ]
    }
   ],
   "source": [
    "summarize(\"https://edwarddonner.com\")"
   ]
  },
  {
   "cell_type": "code",
   "execution_count": null,
   "id": "643bc3a7",
   "metadata": {},
   "outputs": [],
   "source": []
  }
 ],
 "metadata": {
  "kernelspec": {
   "display_name": "Python 3",
   "language": "python",
   "name": "python3"
  },
  "language_info": {
   "codemirror_mode": {
    "name": "ipython",
    "version": 3
   },
   "file_extension": ".py",
   "mimetype": "text/x-python",
   "name": "python",
   "nbconvert_exporter": "python",
   "pygments_lexer": "ipython3",
   "version": "3.10.12"
  }
 },
 "nbformat": 4,
 "nbformat_minor": 5
}
